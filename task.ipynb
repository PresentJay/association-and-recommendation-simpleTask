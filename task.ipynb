{
 "cells": [
  {
   "cell_type": "code",
   "execution_count": 1,
   "metadata": {},
   "outputs": [],
   "source": [
    "import os\n",
    "\n",
    "DATA_URL='https://archive.ics.uci.edu/ml/machine-learning-databases/00352/Online%20Retail.xlsx'\n",
    "DATASET_DIR=\"dataset\"\n",
    "\n",
    "DATA_FILE=os.path.join(DATASET_DIR, \"online_retail.xlsx\")\n",
    "\n",
    "FULL_COL=['InvoiceNo', 'StockCode', 'Description', 'Quantity', 'InvoiceDate', 'UnitPrice', 'CustomerID', 'Country']"
   ]
  },
  {
   "attachments": {},
   "cell_type": "markdown",
   "metadata": {},
   "source": [
    "# [1] Getting Dataset"
   ]
  },
  {
   "cell_type": "code",
   "execution_count": 2,
   "metadata": {},
   "outputs": [],
   "source": [
    "import urllib.request\n",
    "import pandas as pd\n",
    "\n",
    "\n",
    "def download_dataset(directory, url, file_path):\n",
    "    if not os.path.exists(file_path):\n",
    "      print(\"[INFO] data not exists, processing download\")\n",
    "      # Create the specified directory if it does not exist\n",
    "      if not os.path.exists(directory):\n",
    "          os.makedirs(directory)\n",
    "\n",
    "      urllib.request.urlretrieve(url, file_path)\n",
    "    else:\n",
    "      print(\"[INFO] data already exists\")"
   ]
  },
  {
   "cell_type": "code",
   "execution_count": 3,
   "metadata": {},
   "outputs": [
    {
     "name": "stdout",
     "output_type": "stream",
     "text": [
      "[INFO] data already exists\n"
     ]
    }
   ],
   "source": [
    "# Download Dataset (if not exist)\n",
    "\n",
    "download_dataset(DATASET_DIR, DATA_URL, DATA_FILE)"
   ]
  },
  {
   "attachments": {},
   "cell_type": "markdown",
   "metadata": {},
   "source": [
    "# [2] Pre-process Data"
   ]
  },
  {
   "cell_type": "code",
   "execution_count": 4,
   "metadata": {},
   "outputs": [],
   "source": [
    "def load_dataset(file_path, names=None):\n",
    "    # Load the dataset into a pandas DataFrame\n",
    "    df = pd.read_excel(file_path)\n",
    "    return df\n",
    "\n",
    "\n",
    "def drop_columns_and_rows(df, columns):\n",
    "    # Drop the original moves column and any rows with missing values\n",
    "    df = df.drop(columns=columns).dropna()\n",
    "    return df"
   ]
  },
  {
   "cell_type": "code",
   "execution_count": 5,
   "metadata": {},
   "outputs": [
    {
     "name": "stdout",
     "output_type": "stream",
     "text": [
      "(541909, 8)\n"
     ]
    },
    {
     "data": {
      "text/html": [
       "<div>\n",
       "<style scoped>\n",
       "    .dataframe tbody tr th:only-of-type {\n",
       "        vertical-align: middle;\n",
       "    }\n",
       "\n",
       "    .dataframe tbody tr th {\n",
       "        vertical-align: top;\n",
       "    }\n",
       "\n",
       "    .dataframe thead th {\n",
       "        text-align: right;\n",
       "    }\n",
       "</style>\n",
       "<table border=\"1\" class=\"dataframe\">\n",
       "  <thead>\n",
       "    <tr style=\"text-align: right;\">\n",
       "      <th></th>\n",
       "      <th>InvoiceNo</th>\n",
       "      <th>StockCode</th>\n",
       "      <th>Description</th>\n",
       "      <th>Quantity</th>\n",
       "      <th>InvoiceDate</th>\n",
       "      <th>UnitPrice</th>\n",
       "      <th>CustomerID</th>\n",
       "      <th>Country</th>\n",
       "    </tr>\n",
       "  </thead>\n",
       "  <tbody>\n",
       "    <tr>\n",
       "      <th>0</th>\n",
       "      <td>536365</td>\n",
       "      <td>85123A</td>\n",
       "      <td>WHITE HANGING HEART T-LIGHT HOLDER</td>\n",
       "      <td>6</td>\n",
       "      <td>2010-12-01 08:26:00</td>\n",
       "      <td>2.55</td>\n",
       "      <td>17850.0</td>\n",
       "      <td>United Kingdom</td>\n",
       "    </tr>\n",
       "    <tr>\n",
       "      <th>1</th>\n",
       "      <td>536365</td>\n",
       "      <td>71053</td>\n",
       "      <td>WHITE METAL LANTERN</td>\n",
       "      <td>6</td>\n",
       "      <td>2010-12-01 08:26:00</td>\n",
       "      <td>3.39</td>\n",
       "      <td>17850.0</td>\n",
       "      <td>United Kingdom</td>\n",
       "    </tr>\n",
       "    <tr>\n",
       "      <th>2</th>\n",
       "      <td>536365</td>\n",
       "      <td>84406B</td>\n",
       "      <td>CREAM CUPID HEARTS COAT HANGER</td>\n",
       "      <td>8</td>\n",
       "      <td>2010-12-01 08:26:00</td>\n",
       "      <td>2.75</td>\n",
       "      <td>17850.0</td>\n",
       "      <td>United Kingdom</td>\n",
       "    </tr>\n",
       "    <tr>\n",
       "      <th>3</th>\n",
       "      <td>536365</td>\n",
       "      <td>84029G</td>\n",
       "      <td>KNITTED UNION FLAG HOT WATER BOTTLE</td>\n",
       "      <td>6</td>\n",
       "      <td>2010-12-01 08:26:00</td>\n",
       "      <td>3.39</td>\n",
       "      <td>17850.0</td>\n",
       "      <td>United Kingdom</td>\n",
       "    </tr>\n",
       "    <tr>\n",
       "      <th>4</th>\n",
       "      <td>536365</td>\n",
       "      <td>84029E</td>\n",
       "      <td>RED WOOLLY HOTTIE WHITE HEART.</td>\n",
       "      <td>6</td>\n",
       "      <td>2010-12-01 08:26:00</td>\n",
       "      <td>3.39</td>\n",
       "      <td>17850.0</td>\n",
       "      <td>United Kingdom</td>\n",
       "    </tr>\n",
       "  </tbody>\n",
       "</table>\n",
       "</div>"
      ],
      "text/plain": [
       "  InvoiceNo StockCode                          Description  Quantity  \\\n",
       "0    536365    85123A   WHITE HANGING HEART T-LIGHT HOLDER         6   \n",
       "1    536365     71053                  WHITE METAL LANTERN         6   \n",
       "2    536365    84406B       CREAM CUPID HEARTS COAT HANGER         8   \n",
       "3    536365    84029G  KNITTED UNION FLAG HOT WATER BOTTLE         6   \n",
       "4    536365    84029E       RED WOOLLY HOTTIE WHITE HEART.         6   \n",
       "\n",
       "          InvoiceDate  UnitPrice  CustomerID         Country  \n",
       "0 2010-12-01 08:26:00       2.55     17850.0  United Kingdom  \n",
       "1 2010-12-01 08:26:00       3.39     17850.0  United Kingdom  \n",
       "2 2010-12-01 08:26:00       2.75     17850.0  United Kingdom  \n",
       "3 2010-12-01 08:26:00       3.39     17850.0  United Kingdom  \n",
       "4 2010-12-01 08:26:00       3.39     17850.0  United Kingdom  "
      ]
     },
     "execution_count": 5,
     "metadata": {},
     "output_type": "execute_result"
    }
   ],
   "source": [
    "# Load the dataset into a Pandas DataFrame\n",
    "df = load_dataset(DATA_FILE, names=FULL_COL)\n",
    "df['StockCode'] = df['StockCode'].astype('str')\n",
    "\n",
    "\n",
    "print(df.shape)\n",
    "df.head()"
   ]
  },
  {
   "cell_type": "code",
   "execution_count": 6,
   "metadata": {},
   "outputs": [],
   "source": [
    "# Create a dictionary mapping the StockCode values to the Description values\n",
    "name_dict = df[['StockCode', 'Description']].drop_duplicates().set_index('StockCode').to_dict()['Description']\n",
    "\n",
    "def get_descriptions(stock_codes):\n",
    "    \"\"\"\n",
    "    Returns a list of descriptions for the given stock codes.\n",
    "    \n",
    "    Parameters:\n",
    "        stock_codes (list): A list of stock codes.\n",
    "    \n",
    "    Returns:\n",
    "        list: A list of descriptions for the given stock codes.\n",
    "    \"\"\"\n",
    "    return [name_dict[code] for code in stock_codes]\n"
   ]
  },
  {
   "cell_type": "code",
   "execution_count": 7,
   "metadata": {},
   "outputs": [
    {
     "name": "stdout",
     "output_type": "stream",
     "text": [
      "25900\n"
     ]
    }
   ],
   "source": [
    "# Convert the InvoiceNo and StockCode columns into a list of transactions\n",
    "transactions = df.groupby(['InvoiceNo'])['StockCode'].apply(list).values.tolist()\n",
    "\n",
    "print(len(transactions))"
   ]
  },
  {
   "cell_type": "code",
   "execution_count": 12,
   "metadata": {},
   "outputs": [
    {
     "name": "stdout",
     "output_type": "stream",
     "text": [
      "[['85123A', '71053', '84406B', '84029G', '84029E', '22752', '21730'], ['22633', '22632'], ['84879', '22745', '22748', '22749', '22310', '84969', '22623', '22622', '21754', '21755', '21777', '48187'], ['22960', '22913', '22912', '22914'], ['21756']]\n",
      "['CREAM HANGING HEART T-LIGHT HOLDER', 'WHITE MOROCCAN METAL LANTERN', nan, nan, nan, 'SET 7 BABUSHKA NESTING BOXES', 'GLASS STAR FROSTED T-LIGHT HOLDER']\n",
      "[nan, nan]\n",
      "['damaged', \"POPPY'S PLAYHOUSE BEDROOM \", \"POPPY'S PLAYHOUSE KITCHEN\", 'FELTCRAFT PRINCESS CHARLOTTE DOLL', 'IVORY KNITTED MUG COSY ', 'check', 'BOX OF VINTAGE JIGSAW BLOCKS ', 'BOX OF VINTAGE ALPHABET BLOCKS', 'HOME BUILDING BLOCK WORD', 'LOVE BUILDING BLOCK WORD', nan, 'DOORMAT NEW ENGLAND']\n",
      "['JAM MAKING SET WITH JARS', 'RED COAT RACK PARIS FASHION', 'YELLOW COAT RACK PARIS FASHION', 'BLUE COAT RACK PARIS FASHION']\n",
      "['BATH BUILDING BLOCK WORD']\n"
     ]
    }
   ],
   "source": [
    "print(transactions[:5])\n",
    "\n",
    "for i in transactions[:5]:\n",
    "  print(get_descriptions(i))"
   ]
  },
  {
   "cell_type": "code",
   "execution_count": 9,
   "metadata": {},
   "outputs": [],
   "source": [
    "from mlxtend.preprocessing import TransactionEncoder\n",
    "\n",
    "# Convert the transactions into a format that can be used by the Apriori and FP-Growth algorithms\n",
    "te = TransactionEncoder()\n",
    "te_ary = te.fit(transactions).transform(transactions)\n",
    "df_te = pd.DataFrame(te_ary, columns=te.columns_)"
   ]
  },
  {
   "attachments": {},
   "cell_type": "markdown",
   "metadata": {},
   "source": [
    "# [3] Try Apriori Algorithm"
   ]
  },
  {
   "cell_type": "code",
   "execution_count": 10,
   "metadata": {},
   "outputs": [
    {
     "name": "stdout",
     "output_type": "stream",
     "text": [
      "       support                       itemsets\n",
      "0     0.020193                        (15036)\n",
      "1     0.012587                      (15056BL)\n",
      "2     0.017876                       (15056N)\n",
      "3     0.011236                        (16237)\n",
      "4     0.012510                        (20675)\n",
      "...        ...                            ...\n",
      "1082  0.010270         (85099B, 23203, 23199)\n",
      "1083  0.011429         (85099B, 23203, 23202)\n",
      "1084  0.010077   (20719, 20724, 20723, 22355)\n",
      "1085  0.010386  (85099B, 22386, 22411, 21931)\n",
      "1086  0.011699   (22697, 22423, 22698, 22699)\n",
      "\n",
      "[1087 rows x 2 columns]\n",
      "processed_time: 120.6472818851471\n"
     ]
    }
   ],
   "source": [
    "import time\n",
    "from mlxtend.frequent_patterns import apriori\n",
    "\n",
    "# Run the Apriori algorithm and measure the time\n",
    "start_time = time.time()\n",
    "\n",
    "# Run the apriori algorithm to find frequent itemsets\n",
    "apriori_results = apriori(df_te, min_support=0.01, use_colnames=True)\n",
    "\n",
    "# measure the time\n",
    "apriori_time = time.time() - start_time\n",
    "\n",
    "# Print the apriori_results\n",
    "print(apriori_results)\n",
    "print(\"processed_time:\",apriori_time)"
   ]
  },
  {
   "cell_type": "code",
   "execution_count": 35,
   "metadata": {},
   "outputs": [
    {
     "name": "stdout",
     "output_type": "stream",
     "text": [
      "       support                itemsets\n",
      "591   0.086718                (85123A)\n",
      "245   0.083861                 (22423)\n",
      "588   0.082432                (85099B)\n",
      "515   0.065869                 (47566)\n",
      "17    0.062085                 (20725)\n",
      "...        ...                     ...\n",
      "1040  0.010000   (20728, 22383, 20726)\n",
      "1060  0.010000  (85099B, 21930, 21931)\n",
      "34    0.010000                 (20982)\n",
      "45    0.010000                 (21116)\n",
      "549   0.010000                (84032B)\n",
      "\n",
      "[1087 rows x 2 columns]\n",
      "frozenset({'85123A'}) : ['CREAM HANGING HEART T-LIGHT HOLDER']\n"
     ]
    }
   ],
   "source": [
    "# Sort the apriori_results DataFrame by support in descending order\n",
    "ranked_apriori_rules = apriori_results.sort_values(by='support', ascending=False)\n",
    "\n",
    "print(ranked_apriori_rules)\n",
    "\n",
    "temp_value = list(ranked_apriori_rules['itemsets'])[0]\n",
    "print(temp_value, \":\", get_descriptions(temp_value))"
   ]
  },
  {
   "attachments": {},
   "cell_type": "markdown",
   "metadata": {},
   "source": [
    "# [4] Try FP-Growth Algorithm"
   ]
  },
  {
   "cell_type": "code",
   "execution_count": 36,
   "metadata": {},
   "outputs": [
    {
     "name": "stdout",
     "output_type": "stream",
     "text": [
      "       support        itemsets\n",
      "0     0.086718        (85123A)\n",
      "1     0.017915        (84029G)\n",
      "2     0.016911        (84029E)\n",
      "3     0.014865         (22752)\n",
      "4     0.013205         (71053)\n",
      "...        ...             ...\n",
      "1082  0.010077  (23203, 23344)\n",
      "1083  0.010039  (22086, 23344)\n",
      "1084  0.011853  (23293, 23295)\n",
      "1085  0.010077  (23296, 23293)\n",
      "1086  0.010463  (22112, 23355)\n",
      "\n",
      "[1087 rows x 2 columns]\n",
      "processed_time: 6.55661416053772\n"
     ]
    }
   ],
   "source": [
    "from mlxtend.frequent_patterns import fpgrowth\n",
    "\n",
    "# Run the Apriori algorithm and measure the time\n",
    "start_time = time.time()\n",
    "\n",
    "# Run the apriori algorithm to find frequent itemsets\n",
    "fp_growth_results = fpgrowth(df_te, min_support=0.01, use_colnames=True)\n",
    "\n",
    "# measure the time\n",
    "fp_growth_time = time.time() - start_time\n",
    "\n",
    "# Print the fp_growth_results\n",
    "print(fp_growth_results)\n",
    "print(\"processed_time:\",fp_growth_time)"
   ]
  },
  {
   "cell_type": "code",
   "execution_count": 37,
   "metadata": {},
   "outputs": [
    {
     "name": "stdout",
     "output_type": "stream",
     "text": [
      "      support               itemsets\n",
      "0    0.086718               (85123A)\n",
      "266  0.083861                (22423)\n",
      "93   0.082432               (85099B)\n",
      "456  0.065869                (47566)\n",
      "41   0.062085                (20725)\n",
      "..        ...                    ...\n",
      "503  0.010000                (23078)\n",
      "786  0.010000  (20728, 22383, 20726)\n",
      "803  0.010000         (22197, 20727)\n",
      "240  0.010000               (84032B)\n",
      "192  0.010000                (20982)\n",
      "\n",
      "[1087 rows x 2 columns]\n",
      "frozenset({'85123A'}) : ['CREAM HANGING HEART T-LIGHT HOLDER']\n"
     ]
    }
   ],
   "source": [
    "# Sort the fp_growth_results DataFrame by support in descending order\n",
    "ranked_fp_growth_rules = fp_growth_results.sort_values(by='support', ascending=False)\n",
    "\n",
    "print(ranked_fp_growth_rules)\n",
    "\n",
    "temp_value = list(ranked_fp_growth_rules['itemsets'])[0]\n",
    "print(temp_value, \":\", get_descriptions(temp_value))"
   ]
  },
  {
   "attachments": {},
   "cell_type": "markdown",
   "metadata": {},
   "source": [
    "# [5] Compare both algorithms "
   ]
  },
  {
   "cell_type": "code",
   "execution_count": 38,
   "metadata": {},
   "outputs": [],
   "source": [
    "algorithms = [\"Apriori\", \"FP-Growth\"]\n",
    "\n",
    "times = [apriori_time, fp_growth_time]\n",
    "num_frequent_itemsets = [len(apriori_results), len(fp_growth_results)]"
   ]
  },
  {
   "cell_type": "code",
   "execution_count": 70,
   "metadata": {},
   "outputs": [
    {
     "name": "stdout",
     "output_type": "stream",
     "text": [
      "Apriori association rules (mean lift): 60.26038744595887 (2,)\n",
      "FP-Growth association rules (mean lift): 60.26038744595887 (2,)\n"
     ]
    }
   ],
   "source": [
    "from mlxtend.frequent_patterns import association_rules\n",
    "\n",
    "# Generate association rules using the Apriori algorithm\n",
    "apriori_rules_lift = association_rules(apriori_results, metric=\"lift\", min_threshold=50)\n",
    "\n",
    "# Generate association rules using the FP-Growth algorithm\n",
    "fp_growth_rules_lift = association_rules(fp_growth_results, metric=\"lift\", min_threshold=50)\n",
    "\n",
    "# Compare the association rules in terms of the lift metric\n",
    "print(\"Apriori association rules (mean lift):\", apriori_rules_lift[\"lift\"].mean(), apriori_rules_lift[\"lift\"].shape)\n",
    "print(\"FP-Growth association rules (mean lift):\", fp_growth_rules_lift[\"lift\"].mean(), fp_growth_rules_lift[\"lift\"].shape)\n",
    "\n",
    "mean_lifts=[apriori_rules_lift[\"lift\"].mean(), fp_growth_rules_lift[\"lift\"].mean()]\n",
    "\n",
    "# You can also compare the association rules in terms of other metrics, such as support or confidence"
   ]
  },
  {
   "cell_type": "code",
   "execution_count": 71,
   "metadata": {},
   "outputs": [
    {
     "data": {
      "text/html": [
       "<div>\n",
       "<style scoped>\n",
       "    .dataframe tbody tr th:only-of-type {\n",
       "        vertical-align: middle;\n",
       "    }\n",
       "\n",
       "    .dataframe tbody tr th {\n",
       "        vertical-align: top;\n",
       "    }\n",
       "\n",
       "    .dataframe thead th {\n",
       "        text-align: right;\n",
       "    }\n",
       "</style>\n",
       "<table border=\"1\" class=\"dataframe\">\n",
       "  <thead>\n",
       "    <tr style=\"text-align: right;\">\n",
       "      <th></th>\n",
       "      <th>antecedents</th>\n",
       "      <th>consequents</th>\n",
       "      <th>antecedent support</th>\n",
       "      <th>consequent support</th>\n",
       "      <th>support</th>\n",
       "      <th>confidence</th>\n",
       "      <th>lift</th>\n",
       "      <th>leverage</th>\n",
       "      <th>conviction</th>\n",
       "    </tr>\n",
       "  </thead>\n",
       "  <tbody>\n",
       "    <tr>\n",
       "      <th>0</th>\n",
       "      <td>(23171)</td>\n",
       "      <td>(23172)</td>\n",
       "      <td>0.014903</td>\n",
       "      <td>0.012124</td>\n",
       "      <td>0.010888</td>\n",
       "      <td>0.730570</td>\n",
       "      <td>60.260387</td>\n",
       "      <td>0.010707</td>\n",
       "      <td>3.666541</td>\n",
       "    </tr>\n",
       "    <tr>\n",
       "      <th>1</th>\n",
       "      <td>(23172)</td>\n",
       "      <td>(23171)</td>\n",
       "      <td>0.012124</td>\n",
       "      <td>0.014903</td>\n",
       "      <td>0.010888</td>\n",
       "      <td>0.898089</td>\n",
       "      <td>60.260387</td>\n",
       "      <td>0.010707</td>\n",
       "      <td>9.666260</td>\n",
       "    </tr>\n",
       "  </tbody>\n",
       "</table>\n",
       "</div>"
      ],
      "text/plain": [
       "  antecedents consequents  antecedent support  consequent support   support  \\\n",
       "0     (23171)     (23172)            0.014903            0.012124  0.010888   \n",
       "1     (23172)     (23171)            0.012124            0.014903  0.010888   \n",
       "\n",
       "   confidence       lift  leverage  conviction  \n",
       "0    0.730570  60.260387  0.010707    3.666541  \n",
       "1    0.898089  60.260387  0.010707    9.666260  "
      ]
     },
     "execution_count": 71,
     "metadata": {},
     "output_type": "execute_result"
    }
   ],
   "source": [
    "apriori_rules_lift.head()"
   ]
  },
  {
   "cell_type": "code",
   "execution_count": 72,
   "metadata": {},
   "outputs": [
    {
     "data": {
      "text/html": [
       "<div>\n",
       "<style scoped>\n",
       "    .dataframe tbody tr th:only-of-type {\n",
       "        vertical-align: middle;\n",
       "    }\n",
       "\n",
       "    .dataframe tbody tr th {\n",
       "        vertical-align: top;\n",
       "    }\n",
       "\n",
       "    .dataframe thead th {\n",
       "        text-align: right;\n",
       "    }\n",
       "</style>\n",
       "<table border=\"1\" class=\"dataframe\">\n",
       "  <thead>\n",
       "    <tr style=\"text-align: right;\">\n",
       "      <th></th>\n",
       "      <th>antecedents</th>\n",
       "      <th>consequents</th>\n",
       "      <th>antecedent support</th>\n",
       "      <th>consequent support</th>\n",
       "      <th>support</th>\n",
       "      <th>confidence</th>\n",
       "      <th>lift</th>\n",
       "      <th>leverage</th>\n",
       "      <th>conviction</th>\n",
       "    </tr>\n",
       "  </thead>\n",
       "  <tbody>\n",
       "    <tr>\n",
       "      <th>0</th>\n",
       "      <td>(23171)</td>\n",
       "      <td>(23172)</td>\n",
       "      <td>0.014903</td>\n",
       "      <td>0.012124</td>\n",
       "      <td>0.010888</td>\n",
       "      <td>0.730570</td>\n",
       "      <td>60.260387</td>\n",
       "      <td>0.010707</td>\n",
       "      <td>3.666541</td>\n",
       "    </tr>\n",
       "    <tr>\n",
       "      <th>1</th>\n",
       "      <td>(23172)</td>\n",
       "      <td>(23171)</td>\n",
       "      <td>0.012124</td>\n",
       "      <td>0.014903</td>\n",
       "      <td>0.010888</td>\n",
       "      <td>0.898089</td>\n",
       "      <td>60.260387</td>\n",
       "      <td>0.010707</td>\n",
       "      <td>9.666260</td>\n",
       "    </tr>\n",
       "  </tbody>\n",
       "</table>\n",
       "</div>"
      ],
      "text/plain": [
       "  antecedents consequents  antecedent support  consequent support   support  \\\n",
       "0     (23171)     (23172)            0.014903            0.012124  0.010888   \n",
       "1     (23172)     (23171)            0.012124            0.014903  0.010888   \n",
       "\n",
       "   confidence       lift  leverage  conviction  \n",
       "0    0.730570  60.260387  0.010707    3.666541  \n",
       "1    0.898089  60.260387  0.010707    9.666260  "
      ]
     },
     "execution_count": 72,
     "metadata": {},
     "output_type": "execute_result"
    }
   ],
   "source": [
    "fp_growth_rules_lift.head()"
   ]
  },
  {
   "cell_type": "code",
   "execution_count": 58,
   "metadata": {},
   "outputs": [
    {
     "name": "stdout",
     "output_type": "stream",
     "text": [
      "Apriori association rules (mean confidence): 0.8966515105868123 (4,)\n",
      "FP-Growth association rules (mean confidence): 0.8966515105868121 (4,)\n"
     ]
    }
   ],
   "source": [
    "# Generate association rules using the Apriori algorithm\n",
    "apriori_rules_confidence = association_rules(apriori_results, metric=\"confidence\", min_threshold=0.88)\n",
    "\n",
    "# Generate association rules using the FP-Growth algorithm\n",
    "fp_growth_rules_confidence = association_rules(fp_growth_results, metric=\"confidence\", min_threshold=0.88)\n",
    "\n",
    "# Compare the association rules in terms of the confidence metric\n",
    "print(\"Apriori association rules (mean confidence):\", apriori_rules_confidence[\"confidence\"].mean(), apriori_rules_confidence[\"confidence\"].shape)\n",
    "print(\"FP-Growth association rules (mean confidence):\", fp_growth_rules_confidence[\"confidence\"].mean(), fp_growth_rules_confidence[\"confidence\"].shape)\n",
    "\n",
    "mean_confidences=[apriori_rules_confidence[\"confidence\"].mean(), fp_growth_rules_confidence[\"confidence\"].mean()]\n"
   ]
  },
  {
   "cell_type": "code",
   "execution_count": 59,
   "metadata": {},
   "outputs": [
    {
     "data": {
      "text/html": [
       "<div>\n",
       "<style scoped>\n",
       "    .dataframe tbody tr th:only-of-type {\n",
       "        vertical-align: middle;\n",
       "    }\n",
       "\n",
       "    .dataframe tbody tr th {\n",
       "        vertical-align: top;\n",
       "    }\n",
       "\n",
       "    .dataframe thead th {\n",
       "        text-align: right;\n",
       "    }\n",
       "</style>\n",
       "<table border=\"1\" class=\"dataframe\">\n",
       "  <thead>\n",
       "    <tr style=\"text-align: right;\">\n",
       "      <th></th>\n",
       "      <th>antecedents</th>\n",
       "      <th>consequents</th>\n",
       "      <th>antecedent support</th>\n",
       "      <th>consequent support</th>\n",
       "      <th>support</th>\n",
       "      <th>confidence</th>\n",
       "      <th>lift</th>\n",
       "      <th>leverage</th>\n",
       "      <th>conviction</th>\n",
       "    </tr>\n",
       "  </thead>\n",
       "  <tbody>\n",
       "    <tr>\n",
       "      <th>0</th>\n",
       "      <td>(23172)</td>\n",
       "      <td>(23171)</td>\n",
       "      <td>0.012124</td>\n",
       "      <td>0.014903</td>\n",
       "      <td>0.010888</td>\n",
       "      <td>0.898089</td>\n",
       "      <td>60.260387</td>\n",
       "      <td>0.010707</td>\n",
       "      <td>9.666260</td>\n",
       "    </tr>\n",
       "    <tr>\n",
       "      <th>1</th>\n",
       "      <td>(21086, 21080)</td>\n",
       "      <td>(21094)</td>\n",
       "      <td>0.011429</td>\n",
       "      <td>0.020347</td>\n",
       "      <td>0.010232</td>\n",
       "      <td>0.895270</td>\n",
       "      <td>43.999051</td>\n",
       "      <td>0.009999</td>\n",
       "      <td>9.354101</td>\n",
       "    </tr>\n",
       "    <tr>\n",
       "      <th>2</th>\n",
       "      <td>(22699, 22698)</td>\n",
       "      <td>(22697)</td>\n",
       "      <td>0.023707</td>\n",
       "      <td>0.040811</td>\n",
       "      <td>0.021197</td>\n",
       "      <td>0.894137</td>\n",
       "      <td>21.909313</td>\n",
       "      <td>0.020229</td>\n",
       "      <td>9.060649</td>\n",
       "    </tr>\n",
       "    <tr>\n",
       "      <th>3</th>\n",
       "      <td>(22699, 22423, 22698)</td>\n",
       "      <td>(22697)</td>\n",
       "      <td>0.013012</td>\n",
       "      <td>0.040811</td>\n",
       "      <td>0.011699</td>\n",
       "      <td>0.899110</td>\n",
       "      <td>22.031167</td>\n",
       "      <td>0.011168</td>\n",
       "      <td>9.507258</td>\n",
       "    </tr>\n",
       "  </tbody>\n",
       "</table>\n",
       "</div>"
      ],
      "text/plain": [
       "             antecedents consequents  antecedent support  consequent support  \\\n",
       "0                (23172)     (23171)            0.012124            0.014903   \n",
       "1         (21086, 21080)     (21094)            0.011429            0.020347   \n",
       "2         (22699, 22698)     (22697)            0.023707            0.040811   \n",
       "3  (22699, 22423, 22698)     (22697)            0.013012            0.040811   \n",
       "\n",
       "    support  confidence       lift  leverage  conviction  \n",
       "0  0.010888    0.898089  60.260387  0.010707    9.666260  \n",
       "1  0.010232    0.895270  43.999051  0.009999    9.354101  \n",
       "2  0.021197    0.894137  21.909313  0.020229    9.060649  \n",
       "3  0.011699    0.899110  22.031167  0.011168    9.507258  "
      ]
     },
     "execution_count": 59,
     "metadata": {},
     "output_type": "execute_result"
    }
   ],
   "source": [
    "apriori_rules_confidence.head()"
   ]
  },
  {
   "cell_type": "code",
   "execution_count": 60,
   "metadata": {},
   "outputs": [
    {
     "data": {
      "text/html": [
       "<div>\n",
       "<style scoped>\n",
       "    .dataframe tbody tr th:only-of-type {\n",
       "        vertical-align: middle;\n",
       "    }\n",
       "\n",
       "    .dataframe tbody tr th {\n",
       "        vertical-align: top;\n",
       "    }\n",
       "\n",
       "    .dataframe thead th {\n",
       "        text-align: right;\n",
       "    }\n",
       "</style>\n",
       "<table border=\"1\" class=\"dataframe\">\n",
       "  <thead>\n",
       "    <tr style=\"text-align: right;\">\n",
       "      <th></th>\n",
       "      <th>antecedents</th>\n",
       "      <th>consequents</th>\n",
       "      <th>antecedent support</th>\n",
       "      <th>consequent support</th>\n",
       "      <th>support</th>\n",
       "      <th>confidence</th>\n",
       "      <th>lift</th>\n",
       "      <th>leverage</th>\n",
       "      <th>conviction</th>\n",
       "    </tr>\n",
       "  </thead>\n",
       "  <tbody>\n",
       "    <tr>\n",
       "      <th>0</th>\n",
       "      <td>(21086, 21080)</td>\n",
       "      <td>(21094)</td>\n",
       "      <td>0.011429</td>\n",
       "      <td>0.020347</td>\n",
       "      <td>0.010232</td>\n",
       "      <td>0.895270</td>\n",
       "      <td>43.999051</td>\n",
       "      <td>0.009999</td>\n",
       "      <td>9.354101</td>\n",
       "    </tr>\n",
       "    <tr>\n",
       "      <th>1</th>\n",
       "      <td>(22699, 22423, 22698)</td>\n",
       "      <td>(22697)</td>\n",
       "      <td>0.013012</td>\n",
       "      <td>0.040811</td>\n",
       "      <td>0.011699</td>\n",
       "      <td>0.899110</td>\n",
       "      <td>22.031167</td>\n",
       "      <td>0.011168</td>\n",
       "      <td>9.507258</td>\n",
       "    </tr>\n",
       "    <tr>\n",
       "      <th>2</th>\n",
       "      <td>(22699, 22698)</td>\n",
       "      <td>(22697)</td>\n",
       "      <td>0.023707</td>\n",
       "      <td>0.040811</td>\n",
       "      <td>0.021197</td>\n",
       "      <td>0.894137</td>\n",
       "      <td>21.909313</td>\n",
       "      <td>0.020229</td>\n",
       "      <td>9.060649</td>\n",
       "    </tr>\n",
       "    <tr>\n",
       "      <th>3</th>\n",
       "      <td>(23172)</td>\n",
       "      <td>(23171)</td>\n",
       "      <td>0.012124</td>\n",
       "      <td>0.014903</td>\n",
       "      <td>0.010888</td>\n",
       "      <td>0.898089</td>\n",
       "      <td>60.260387</td>\n",
       "      <td>0.010707</td>\n",
       "      <td>9.666260</td>\n",
       "    </tr>\n",
       "  </tbody>\n",
       "</table>\n",
       "</div>"
      ],
      "text/plain": [
       "             antecedents consequents  antecedent support  consequent support  \\\n",
       "0         (21086, 21080)     (21094)            0.011429            0.020347   \n",
       "1  (22699, 22423, 22698)     (22697)            0.013012            0.040811   \n",
       "2         (22699, 22698)     (22697)            0.023707            0.040811   \n",
       "3                (23172)     (23171)            0.012124            0.014903   \n",
       "\n",
       "    support  confidence       lift  leverage  conviction  \n",
       "0  0.010232    0.895270  43.999051  0.009999    9.354101  \n",
       "1  0.011699    0.899110  22.031167  0.011168    9.507258  \n",
       "2  0.021197    0.894137  21.909313  0.020229    9.060649  \n",
       "3  0.010888    0.898089  60.260387  0.010707    9.666260  "
      ]
     },
     "execution_count": 60,
     "metadata": {},
     "output_type": "execute_result"
    }
   ],
   "source": [
    "fp_growth_rules_confidence.head()"
   ]
  }
 ],
 "metadata": {
  "kernelspec": {
   "display_name": "Python 3",
   "language": "python",
   "name": "python3"
  },
  "language_info": {
   "codemirror_mode": {
    "name": "ipython",
    "version": 3
   },
   "file_extension": ".py",
   "mimetype": "text/x-python",
   "name": "python",
   "nbconvert_exporter": "python",
   "pygments_lexer": "ipython3",
   "version": "3.9.6"
  },
  "orig_nbformat": 4,
  "vscode": {
   "interpreter": {
    "hash": "31f2aee4e71d21fbe5cf8b01ff0e069b9275f58929596ceb00d14d90e3e16cd6"
   }
  }
 },
 "nbformat": 4,
 "nbformat_minor": 2
}
